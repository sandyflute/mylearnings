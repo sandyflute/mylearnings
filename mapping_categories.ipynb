{
 "cells": [
  {
   "cell_type": "code",
   "execution_count": 34,
   "metadata": {},
   "outputs": [],
   "source": [
    "import matplotlib.pyplot as plt\n",
    "import pandas as pd\n",
    "import seaborn as sns\n",
    "import numpy as np\n",
    "import chardet as cd\n",
    "import re"
   ]
  },
  {
   "cell_type": "code",
   "execution_count": 2,
   "metadata": {},
   "outputs": [],
   "source": [
    "def find_encoding(file):\n",
    "    return cd.detect(open(file, 'rb').read())['encoding']"
   ]
  },
  {
   "cell_type": "code",
   "execution_count": 3,
   "metadata": {},
   "outputs": [],
   "source": [
    "encoding_for_mapping_file  = find_encoding('mapping.csv')"
   ]
  },
  {
   "cell_type": "code",
   "execution_count": 4,
   "metadata": {},
   "outputs": [],
   "source": [
    "mapping = pd.read_csv('mapping.csv',encoding = encoding_for_mapping_file)"
   ]
  },
  {
   "cell_type": "code",
   "execution_count": 5,
   "metadata": {},
   "outputs": [
    {
     "data": {
      "text/html": [
       "<div>\n",
       "<style scoped>\n",
       "    .dataframe tbody tr th:only-of-type {\n",
       "        vertical-align: middle;\n",
       "    }\n",
       "\n",
       "    .dataframe tbody tr th {\n",
       "        vertical-align: top;\n",
       "    }\n",
       "\n",
       "    .dataframe thead th {\n",
       "        text-align: right;\n",
       "    }\n",
       "</style>\n",
       "<table border=\"1\" class=\"dataframe\">\n",
       "  <thead>\n",
       "    <tr style=\"text-align: right;\">\n",
       "      <th></th>\n",
       "      <th>category_list</th>\n",
       "      <th>Automotive &amp; Sports</th>\n",
       "      <th>Blanks</th>\n",
       "      <th>Cleantech / Semiconductors</th>\n",
       "      <th>Entertainment</th>\n",
       "      <th>Health</th>\n",
       "      <th>Manufacturing</th>\n",
       "      <th>News, Search and Messaging</th>\n",
       "      <th>Others</th>\n",
       "      <th>Social, Finance, Analytics, Advertising</th>\n",
       "    </tr>\n",
       "  </thead>\n",
       "  <tbody>\n",
       "    <tr>\n",
       "      <th>0</th>\n",
       "      <td>NaN</td>\n",
       "      <td>0</td>\n",
       "      <td>1</td>\n",
       "      <td>0</td>\n",
       "      <td>0</td>\n",
       "      <td>0</td>\n",
       "      <td>0</td>\n",
       "      <td>0</td>\n",
       "      <td>0</td>\n",
       "      <td>0</td>\n",
       "    </tr>\n",
       "    <tr>\n",
       "      <th>1</th>\n",
       "      <td>3D</td>\n",
       "      <td>0</td>\n",
       "      <td>0</td>\n",
       "      <td>0</td>\n",
       "      <td>0</td>\n",
       "      <td>0</td>\n",
       "      <td>1</td>\n",
       "      <td>0</td>\n",
       "      <td>0</td>\n",
       "      <td>0</td>\n",
       "    </tr>\n",
       "    <tr>\n",
       "      <th>2</th>\n",
       "      <td>3D Printing</td>\n",
       "      <td>0</td>\n",
       "      <td>0</td>\n",
       "      <td>0</td>\n",
       "      <td>0</td>\n",
       "      <td>0</td>\n",
       "      <td>1</td>\n",
       "      <td>0</td>\n",
       "      <td>0</td>\n",
       "      <td>0</td>\n",
       "    </tr>\n",
       "    <tr>\n",
       "      <th>3</th>\n",
       "      <td>3D Technology</td>\n",
       "      <td>0</td>\n",
       "      <td>0</td>\n",
       "      <td>0</td>\n",
       "      <td>0</td>\n",
       "      <td>0</td>\n",
       "      <td>1</td>\n",
       "      <td>0</td>\n",
       "      <td>0</td>\n",
       "      <td>0</td>\n",
       "    </tr>\n",
       "    <tr>\n",
       "      <th>4</th>\n",
       "      <td>Accounting</td>\n",
       "      <td>0</td>\n",
       "      <td>0</td>\n",
       "      <td>0</td>\n",
       "      <td>0</td>\n",
       "      <td>0</td>\n",
       "      <td>0</td>\n",
       "      <td>0</td>\n",
       "      <td>0</td>\n",
       "      <td>1</td>\n",
       "    </tr>\n",
       "  </tbody>\n",
       "</table>\n",
       "</div>"
      ],
      "text/plain": [
       "   category_list  Automotive & Sports  Blanks  Cleantech / Semiconductors  \\\n",
       "0            NaN                    0       1                           0   \n",
       "1             3D                    0       0                           0   \n",
       "2    3D Printing                    0       0                           0   \n",
       "3  3D Technology                    0       0                           0   \n",
       "4     Accounting                    0       0                           0   \n",
       "\n",
       "   Entertainment  Health  Manufacturing  News, Search and Messaging  Others  \\\n",
       "0              0       0              0                           0       0   \n",
       "1              0       0              1                           0       0   \n",
       "2              0       0              1                           0       0   \n",
       "3              0       0              1                           0       0   \n",
       "4              0       0              0                           0       0   \n",
       "\n",
       "   Social, Finance, Analytics, Advertising  \n",
       "0                                        0  \n",
       "1                                        0  \n",
       "2                                        0  \n",
       "3                                        0  \n",
       "4                                        1  "
      ]
     },
     "execution_count": 5,
     "metadata": {},
     "output_type": "execute_result"
    }
   ],
   "source": [
    "mapping.head()"
   ]
  },
  {
   "cell_type": "code",
   "execution_count": 29,
   "metadata": {},
   "outputs": [],
   "source": [
    "category_headers = list(mapping.columns.values)\n",
    "full_categories = category_headers[0]\n",
    "category_headers = category_headers[1:]"
   ]
  },
  {
   "cell_type": "code",
   "execution_count": 64,
   "metadata": {},
   "outputs": [
    {
     "name": "stdout",
     "output_type": "stream",
     "text": [
      "[]\n",
      "[0, 0, 0, 0, 0]\n",
      "[0, 0, 0, 0]\n",
      "[0, 0, 0, 0, 0]\n",
      "[3, 3, 3]\n",
      "[0, 0, 0, 0, 0]\n",
      "[0, 2, 0, 0, 0, 0, 12, 0, 0, 2, 0, 0, 0, 0, 0, 0]\n",
      "[0, 2, 2, 0, 0, 0, 0, 0, 0, 0, 0, 0, 0, 0, 0, 2, 0, 0, 0, 0, 0, 0, 0]\n"
     ]
    }
   ],
   "source": [
    "map_dict = {}\n",
    "for i in range(len(category_headers)):\n",
    "    cat_list = list(mapping[mapping[category_headers[i]] == 1].category_list)\n",
    "    if len(cat_list) != 1:\n",
    "        print ([int(re.search(r'\\d+', i).group()) for i in cat_list if re.search(r'\\d+', i)])\n",
    "#     print ([i for i in cat_list])\n",
    "    map_dict[category_headers[i]] = cat_list\n"
   ]
  },
  {
   "cell_type": "code",
   "execution_count": 31,
   "metadata": {},
   "outputs": [
    {
     "data": {
      "text/plain": [
       "dict_keys(['Others', 'Automotive & Sports', 'Health', 'Manufacturing', 'Blanks', 'Social, Finance, Analytics, Advertising', 'Cleantech / Semiconductors', 'News, Search and Messaging', 'Entertainment'])"
      ]
     },
     "execution_count": 31,
     "metadata": {},
     "output_type": "execute_result"
    }
   ],
   "source": [
    "# Cleaning the mapping file\n",
    "map_dict.keys()"
   ]
  },
  {
   "cell_type": "code",
   "execution_count": 32,
   "metadata": {},
   "outputs": [
    {
     "data": {
      "text/plain": [
       "dict_values([['Advice', 'Algorithms', 'All Markets', 'All Students', 'Alumni', 'Angels', 'Collectibles', 'College Campuses', 'Distribution', 'Distributors', 'DIY', 'Document Ma0gement', 'E-Commerce', 'E-Commerce Platforms', 'EDA Tools', 'Ediscovery', 'EdTech', 'Education', 'Emerging Markets', 'Employment', 'Engineering Firms', 'Enterprise 2.0', 'Enterprise Application', 'Enterprise Resource Planning', 'Enterprise Security', 'Enterprise Software', 'Enterprises', 'Entrepreneur', 'Families', 'Field Support Services', 'File Sharing', 'Flash Sales', 'Flash Storage', 'Fleet Ma0gement', 'Flowers', 'Freelancers', 'Fruit', 'Gay & Lesbian', 'General Public Worldwide', 'Geospatial', 'Gift Card', 'Gift Exchange', 'Gift Registries', 'Gover0nce', 'Government Innovation', 'Governments', 'Guides', 'High School Students', 'High Schools', 'High Tech', 'Home Owners', 'Home Renovation', 'Homeland Security', 'Homeless Shelter', 'Hospitality', 'Human Computer Interaction', 'Human Resource Automation', 'Human Resources', 'Humanitarian', 'IaaS', 'ICT', 'Identity', 'Indians', 'Indoor Positioning', 'Intellectual Asset Ma0gement', 'Intellectual Property', 'Intelligent Systems', 'Interest Graph', 'iOS', 'iPad', 'iPhone', 'IT and Cybersecurity', 'IT Ma0gement', 'K-12 Education', 'Kids', 'Knowledge Ma0gement', 'Landscaping', 'Language Learning', 'Law Enforcement', 'Lead Generation', 'Lead Ma0gement', 'Legal', 'Licensing', 'Life Sciences', 'Linux', 'Local', 'Local Based Services', 'Local Businesses', 'Local Commerce', 'Location Based Services', 'Logistics', 'Logistics Company', 'Low Bid Auctions', 'Loyalty Programs', 'M2M', 'Marketplaces', 'Mass Customization', 'Match-Making', 'Micro-Enterprises', 'Mobile Security', 'Mobility', 'Network Security', 'Networking', 'Non-Tech', 'Non Profit', 'Nonprofits', 'Office Space', 'Oil', 'Oil & Gas', 'Oil and Gas', 'Online Education', 'Online Identity', 'Open Source', 'Opinions', 'Optimization', 'Outsourcing', 'Parenting', 'Parking', 'Perso0l Data', 'Perso0lization', 'Pervasive Computing', 'Physical Security', 'Plumbers', 'Point of Sale', 'Politics', 'Polling', 'Portals', 'Postal and Courier Services', 'Presentations', 'Printing', 'Privacy', 'Private School', 'Procurement', 'Product Design', 'Product Development Services', 'Productivity', 'Productivity Software', 'Professio0l Services', 'Project Ma0gement', 'QR Codes', 'Real Estate', 'Real Time', 'Realtors', 'Recreation', 'Religion', 'Rental Housing', 'Reputation', 'RFID', 'Robotics', 'SaaS', 'Sales Automation', 'Security', 'Sensors', 'Service Industries', 'Service Providers', 'Services', 'Shared Services', 'Shipping', 'Simulation', 'Skill Assessment', 'Small and Medium Businesses', 'Smart Grid', 'SNS', 'Software', 'Staffing Firms', 'Startups', 'Subscription Service', 'Supply Chain Ma0gement', 'Surveys', 'Synchronization', 'Systems', 'Task Ma0gement', 'Taxis', 'Tea', 'Technology', 'Telecommunications', 'Textiles', 'Tracking', 'Trading', 'Training', 'Translation', 'Universities', 'University Students', 'Usability', 'User Experience Design', 'User Interface', 'Utilities', 'Vending and Concessions', 'Watch', 'Web Development', 'Web Hosting', 'Web Tools', 'Wholesale', 'Women', 'Young Adults'], ['Adventure Travel', 'Aerospace', 'Auto', 'Automated Kiosk', 'Automotive', 'Bicycles', 'Boating Industry', 'CAD', 'Cars', 'Design', 'Designers', 'Drones', 'Electric Vehicles', 'Fuels', 'Heavy Industry', 'Industrial Automation', 'Limousines', 'Soccer', 'Sporting Goods', 'Sports', 'Transportation', 'Unmanned Air Systems'], ['Active Lifestyle', 'Alter0tive Medicine', 'Animal Feed', 'Assisitive Technology', 'Assisted Living', 'Babies', 'Baby Accessories', 'Baby Boomers', 'Baby Safety', 'Beauty', 'Can0bis', 'Child Care', 'Clinical Trials', 'Cooking', 'Corporate Wellness', 'Cosmetic Surgery', 'Cosmetics', 'Dental', 'Diabetes', 'Diagnostics', 'Dietary Supplements', 'Doctors', 'Elder Care', 'Electronic Health Records', 'Exercise', 'Eyewear', 'Fitness', 'Genetic Testing', 'Health and Insurance', 'Health and Wellness', 'Health Care', 'Health Care Information Technology', 'Health Diagnostics', 'Health Services Industry', 'Healthcare Services', 'Hospitals', 'Independent Pharmacies', 'Lasers', 'Medical', 'Medical Devices', 'Medical Professio0ls', 'Mens Specific', 'mHealth', 'Mobile Health', 'Neuroscience', 'Nutrition', 'Organic', 'Organic Food', 'Outdoors', 'Perso0l Health', 'Pets', 'Pharmaceuticals', 'Physicians', 'Public Safety', 'Public Transportation', 'Senior Citizens', 'Senior Health', 'SexTech', 'Specialty Chemicals', 'Specialty Foods', 'Speech Recognition', 'Therapeutics', 'Veteri0ry'], ['3D', '3D Printing', '3D Technology', 'Advanced Materials', 'Agriculture', 'Architecture', 'Batteries', 'Building Products', 'Civil Engineers', 'Communications Hardware', 'Communications Infrastructure', 'Computer Vision', 'Computers', 'Construction', 'Consumer Electronics', 'Consumer Goods', 'Defense', 'Displays', 'DOD/Military', 'Electrical Distribution', 'Electronics', 'Embedded Hardware and Software', 'Farmers Market', 'Farming', 'Fmcg', 'Food Processing', 'Furniture', 'Gadget', 'Groceries', 'Handmade', 'Hardware', 'Hardware + Software', 'Industrial', 'Manufacturing', 'Mobile Infrastructure', 'Mobile Software Tools', 'New Product Development', 'New Technologies', 'Optical Communications', 'Storage'], [nan], ['Accounting', 'Ad Targeting', 'Advertising', 'Advertising Exchanges', 'Advertising Networks', 'Advertising Platforms', 'A0lytics', 'Android', 'Anything Capital Intensive', 'Artificial Intelligence', 'Auctions', 'Augmented Reality', 'B2B', 'B2B Express Delivery', 'Banking', 'Big Data', 'Big Data A0lytics', 'Billing', 'BPO Services', 'Brand Marketing', 'Bridging Online and Offline', 'Business A0lytics', 'Business Development', 'Business Information Systems', 'Business Intelligence', 'Business Productivity', 'Business Services', 'Career Ma0gement', 'Career Planning', 'Charities', 'Charity', 'Charter Schools', 'Collaboration', 'Collaborative Consumption', 'College Recruiting', 'Colleges', 'Communities', 'Consulting', 'Consumer Behavior', 'Consumer Internet', 'Consumer Lending', 'Consumers', 'Contact Centers', 'Contact Ma0gement', 'Corporate IT', 'Corporate Training', 'Coupons', 'Coworking', 'Credit', 'Credit Cards', 'CRM', 'Crowdfunding', 'Crowdsourcing', 'Custom Retail', 'Customer Service', 'Customer Support Tools', 'Cyber', 'Cyber Security', 'Data Center Automation', 'Data Center Infrastructure', 'Data Centers', 'Data Integration', 'Data Mining', 'Data Privacy', 'Data Security', 'Data Visualization', 'Databases', 'Debt Collecting', 'Developer APIs', 'Developer Tools', 'Development Platforms', 'Direct Advertising', 'Discounts', 'Email Marketing', 'Email Newsletters', 'Employer Benefits Programs', 'Enterprise Purchasing', 'Estimation and Quoting', 'Face Recognition', 'Facebook Applications', 'Fi0nce', 'Fi0nce Technology', 'Fi0ncial Exchanges', 'Fi0ncial Services', 'FinTech', 'Fraud Detection', 'Freemium', 'Gold', 'Group Buying', 'Hedge Funds', 'Identity Ma0gement', 'Image Recognition', 'Impact Investing', 'Incentives', 'Incubators', 'Information Security', 'Information Services', 'Information Technology', 'Infrastructure', 'Innovation Engineering', 'Innovation Ma0gement', 'Insurance', 'Internet Marketing', 'Internet of Things', 'Investment Ma0gement', 'Local Advertising', 'Lotteries', 'Machine Learning', 'Market Research', 'Marketing Automation', 'Mobile Advertising', 'Mobile A0lytics', 'Mobile Commerce', 'Mobile Payments', 'Mobile Shopping', 'Monetization', 'Moneymaking', 'Multi-level Marketing', 'P2P Money Transfer', 'PaaS', 'Payments', 'Performance Marketing', 'Perso0l Branding', 'Perso0l Fi0nce', 'Pre Seed', 'Predictive A0lytics', 'Price Comparison', 'Promotio0l', 'Property Ma0gement', 'Public Relations', 'Retail', 'Retail Technology', 'Risk Ma0gement', 'Sales and Marketing', 'Social + Mobile + Local', 'Social Bookmarking', 'Social Business', 'Social Buying', 'Social Commerce', 'Social CRM', 'Social Fundraising', 'Social Games', 'Social Media', 'Social Media Ma0gement', 'Social Media Marketing', 'Social Media Platforms', 'Social Network Media', 'Social News', 'Social Recruiting', 'Social Television', 'Social Travel', 'Stock Exchanges', 'Venture Capital'], ['Air Pollution Control', 'Aquaculture', 'Bio-Pharm', 'Biofuels', 'Bioinformatics', 'Biomass Power Generation', 'Biometrics', 'Biotechnology', 'Bitcoin', 'Carbon', 'Chemicals', 'Clean Energy', 'Clean Technology', 'Clean Technology IT', 'Commercial Solar', 'Commodities', 'Concentrated Solar Power', 'Disruptive Models', 'Early-Stage Technology', 'Energy', 'Energy Efficiency', 'Energy IT', 'Energy Ma0gement', 'Energy Storage', 'Environmental Innovation', 'Fertility', 'Fuel Cells', 'Funeral Industry', 'Gas', 'Green', 'Green Consumer Goods', 'Home & Garden', 'Home Automation', 'Home Decor', 'Lighting', 'Material Science', 'Mechanical Solutions', 'Minerals', 'Mining Technologies', '0notechnology', '0tural Language Processing', '0tural Resources', 'Recycling', 'Renewable Energies', 'Renewable Tech', 'Semiconductor Manufacturing Equipment', 'Semiconductors', 'Solar', 'Space Travel', 'Waste Ma0gement', 'Water', 'Water Purification', 'Wearables'], ['App Discovery', 'App Marketing', 'App Stores', 'Application Performance Monitoring', 'Application Platforms', 'Apps', 'Archiving', 'Blogging Platforms', 'Broadcasting', 'Brokers', 'Browser Extensions', 'Building Owners', 'Cable', 'Call Center Automation', 'Certification Test', 'Chat', 'Chi0 Internet', 'Classifieds', 'Cloud-Based Music', 'Cloud Computing', 'Cloud Data Services', 'Cloud Infrastructure', 'Cloud Ma0gement', 'Cloud Security', 'Commercial Real Estate', 'Comparison Shopping', 'Curated Web', 'Delivery', 'Demographies', 'Direct Marketing', 'Direct Sales', 'Domains', 'Email', 'Enterprise Search', 'Forums', 'Gps', 'Graphics', 'Group SMS', 'Internet', 'Internet Infrastructure', 'Internet Radio Market', 'Internet Service Providers', 'Jour0lism', 'Local Search', 'Maps', 'Meeting Software', 'Messaging', 'MicroBlogging', 'Mobile', 'Mobile Devices', 'Mobile Enterprise', 'Mobile Social', '0vigation', 'News', 'Online Dating', 'Online Rental', 'Online Reservations', 'Online Scheduling', 'Online Shopping', 'Online Travel', 'Peer-to-Peer', 'Private Social Networking', 'Professio0l Networking', 'Publishing', 'Q&A', 'Recruiting', 'Ride Sharing', 'Search', 'Search Marketing', 'SEO', 'Web Browsers', 'Web Design'], ['Art', 'Artists Globally', 'Audio', 'Audiobooks', 'Brewing', 'Business Travelers', 'Casual Games', 'Celebrity', 'Coffee', 'Comics', 'Concerts', 'Console Gaming', 'Content', 'Content Creators', 'Content Delivery', 'Content Discovery', 'Content Syndication', 'Contests', 'Craft Beer', 'Creative', 'Creative Industries', 'Digital Entertainment', 'Digital Media', 'Digital Rights Ma0gement', 'Digital Sig0ge', 'E-Books', 'EBooks', 'Educatio0l Games', 'Edutainment', 'Entertainment', 'Entertainment Industry', 'Event Ma0gement', 'Events', 'Fantasy Sports', 'Fashion', 'Film', 'Film Distribution', 'Film Production', 'FreetoPlay Gaming', 'Gambling', 'Game', 'Game Mechanics', 'Games', 'Gamification', 'Hotels', 'In-Flight Entertainment', 'Independent Music Labels', 'Interface Design', 'Interior Design', 'Jewelry', 'Leisure', 'Lifestyle', 'Lifestyle Businesses', 'Lifestyle Products', 'Media', 'Mobile Games', 'Mobile Video', 'Music', 'Music Education', 'Music Services', 'Music Venues', 'Musical Instruments', 'Musicians', 'Online Gaming', 'Online Video Advertising', 'Photo Editing', 'Photo Sharing', 'Photography', 'Resorts', 'Restaurants', 'Reviews and Recommendations', 'Shoes', 'Shopping', 'Television', 'Theatre', 'Ticketing', 'Tourism', 'Travel', 'Travel & Tourism', 'Video', 'Video Conferencing', 'Video Games', 'Video on Demand', 'Video Streaming', 'Virtual Workforces', 'VoIP', 'Weddings', 'Wine And Spirits', 'Wireless']])"
      ]
     },
     "execution_count": 32,
     "metadata": {},
     "output_type": "execute_result"
    }
   ],
   "source": [
    "map_dict.values()"
   ]
  },
  {
   "cell_type": "code",
   "execution_count": 46,
   "metadata": {},
   "outputs": [],
   "source": [
    "re.search(r'\\d+', 'sbsbrsb')"
   ]
  },
  {
   "cell_type": "code",
   "execution_count": null,
   "metadata": {},
   "outputs": [],
   "source": []
  }
 ],
 "metadata": {
  "kernelspec": {
   "display_name": "Python 3",
   "language": "python",
   "name": "python3"
  },
  "language_info": {
   "codemirror_mode": {
    "name": "ipython",
    "version": 3
   },
   "file_extension": ".py",
   "mimetype": "text/x-python",
   "name": "python",
   "nbconvert_exporter": "python",
   "pygments_lexer": "ipython3",
   "version": "3.5.2"
  }
 },
 "nbformat": 4,
 "nbformat_minor": 2
}
